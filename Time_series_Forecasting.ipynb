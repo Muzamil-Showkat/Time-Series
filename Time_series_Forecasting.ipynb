{
 "cells": [
  {
   "cell_type": "code",
   "execution_count": 1,
   "id": "fc6f713d",
   "metadata": {},
   "outputs": [],
   "source": [
    "import pandas as pd\n",
    "import numpy as np\n",
    "import matplotlib.pyplot as plt \n",
    "%matplotlib inline \n",
    "\n",
    "import warnings\n",
    "warnings.filterwarnings(\"ignore\")\n",
    "##the inline statement helps to create charts just below the code execution box,or else we have to use plt.show()\n",
    "##each time to display the graphs"
   ]
  },
  {
   "cell_type": "code",
   "execution_count": 2,
   "id": "5745ddcd",
   "metadata": {},
   "outputs": [],
   "source": [
    "ts = pd.read_csv(\"Sales_TS.csv\")"
   ]
  },
  {
   "cell_type": "code",
   "execution_count": 3,
   "id": "1ff14e7a",
   "metadata": {},
   "outputs": [
    {
     "data": {
      "text/html": [
       "<div>\n",
       "<style scoped>\n",
       "    .dataframe tbody tr th:only-of-type {\n",
       "        vertical-align: middle;\n",
       "    }\n",
       "\n",
       "    .dataframe tbody tr th {\n",
       "        vertical-align: top;\n",
       "    }\n",
       "\n",
       "    .dataframe thead th {\n",
       "        text-align: right;\n",
       "    }\n",
       "</style>\n",
       "<table border=\"1\" class=\"dataframe\">\n",
       "  <thead>\n",
       "    <tr style=\"text-align: right;\">\n",
       "      <th></th>\n",
       "      <th>Month</th>\n",
       "      <th>Sales</th>\n",
       "    </tr>\n",
       "  </thead>\n",
       "  <tbody>\n",
       "    <tr>\n",
       "      <th>0</th>\n",
       "      <td>01-Jan</td>\n",
       "      <td>266.0</td>\n",
       "    </tr>\n",
       "    <tr>\n",
       "      <th>1</th>\n",
       "      <td>01-Feb</td>\n",
       "      <td>145.9</td>\n",
       "    </tr>\n",
       "    <tr>\n",
       "      <th>2</th>\n",
       "      <td>01-Mar</td>\n",
       "      <td>183.1</td>\n",
       "    </tr>\n",
       "    <tr>\n",
       "      <th>3</th>\n",
       "      <td>01-Apr</td>\n",
       "      <td>119.3</td>\n",
       "    </tr>\n",
       "    <tr>\n",
       "      <th>4</th>\n",
       "      <td>01-May</td>\n",
       "      <td>180.3</td>\n",
       "    </tr>\n",
       "  </tbody>\n",
       "</table>\n",
       "</div>"
      ],
      "text/plain": [
       "    Month  Sales\n",
       "0  01-Jan  266.0\n",
       "1  01-Feb  145.9\n",
       "2  01-Mar  183.1\n",
       "3  01-Apr  119.3\n",
       "4  01-May  180.3"
      ]
     },
     "execution_count": 3,
     "metadata": {},
     "output_type": "execute_result"
    }
   ],
   "source": [
    "ts.head()"
   ]
  },
  {
   "cell_type": "code",
   "execution_count": 5,
   "id": "8f5983b1",
   "metadata": {},
   "outputs": [],
   "source": [
    "ts = pd.read_csv(\"Sales_TS.csv\",index_col=[0],parse_dates=True,squeeze=True)"
   ]
  },
  {
   "cell_type": "code",
   "execution_count": 6,
   "id": "f2854b0c",
   "metadata": {},
   "outputs": [],
   "source": [
    "#we need the index to be month,as it is easily referencible.we put col[0] as we want monthly data in the series form,we \n",
    "#use parse_dates to easily recognize the dates column,and lastly the squeeze parameter converts the data into a series\n",
    "#do shift+tab+tab to get signature"
   ]
  },
  {
   "cell_type": "code",
   "execution_count": 7,
   "id": "595df98b",
   "metadata": {},
   "outputs": [
    {
     "data": {
      "text/plain": [
       "pandas.core.series.Series"
      ]
     },
     "execution_count": 7,
     "metadata": {},
     "output_type": "execute_result"
    }
   ],
   "source": [
    "type(ts)"
   ]
  },
  {
   "cell_type": "code",
   "execution_count": 8,
   "id": "00ea2e5f",
   "metadata": {},
   "outputs": [
    {
     "data": {
      "text/plain": [
       "Month\n",
       "01-Jan    266.0\n",
       "01-Feb    145.9\n",
       "01-Mar    183.1\n",
       "01-Apr    119.3\n",
       "01-May    180.3\n",
       "Name: Sales, dtype: float64"
      ]
     },
     "execution_count": 8,
     "metadata": {},
     "output_type": "execute_result"
    }
   ],
   "source": [
    "ts.head()"
   ]
  },
  {
   "cell_type": "code",
   "execution_count": 9,
   "id": "ce4bd8fd",
   "metadata": {},
   "outputs": [
    {
     "data": {
      "text/plain": [
       "pandas.core.series.Series"
      ]
     },
     "execution_count": 9,
     "metadata": {},
     "output_type": "execute_result"
    }
   ],
   "source": [
    "type(ts)"
   ]
  },
  {
   "cell_type": "code",
   "execution_count": 10,
   "id": "4a2eef18",
   "metadata": {},
   "outputs": [
    {
     "data": {
      "text/plain": [
       "<AxesSubplot:xlabel='Month'>"
      ]
     },
     "execution_count": 10,
     "metadata": {},
     "output_type": "execute_result"
    },
    {
     "data": {
      "image/png": "[encoded data removed]",
      "text/plain": [
       "<Figure size 432x288 with 1 Axes>"
      ]
     },
     "metadata": {
      "needs_background": "light"
     },
     "output_type": "display_data"
    }
   ],
   "source": [
    "ts.plot()"
   ]
  },
  {
   "cell_type": "code",
   "execution_count": 50,
   "id": "9206a865",
   "metadata": {},
   "outputs": [],
   "source": [
    "#Clear indication that trend is present with seasonal fluctuations"
   ]
  },
  {
   "cell_type": "code",
   "execution_count": 11,
   "id": "87ef196f",
   "metadata": {},
   "outputs": [
    {
     "data": {
      "text/plain": [
       "36"
      ]
     },
     "execution_count": 11,
     "metadata": {},
     "output_type": "execute_result"
    }
   ],
   "source": [
    "ts.size"
   ]
  },
  {
   "cell_type": "code",
   "execution_count": 12,
   "id": "92cb3020",
   "metadata": {},
   "outputs": [
    {
     "data": {
      "text/plain": [
       "count     36.000000\n",
       "mean     312.600000\n",
       "std      148.937164\n",
       "min      119.300000\n",
       "25%      192.450000\n",
       "50%      280.150000\n",
       "75%      411.100000\n",
       "max      682.000000\n",
       "Name: Sales, dtype: float64"
      ]
     },
     "execution_count": 12,
     "metadata": {},
     "output_type": "execute_result"
    }
   ],
   "source": [
    "ts.describe()"
   ]
  },
  {
   "cell_type": "code",
   "execution_count": 14,
   "id": "7781e245",
   "metadata": {},
   "outputs": [],
   "source": [
    "#Smoothing the time series by calculating the MA\n",
    "ts_ma=ts.rolling(window=10).mean()"
   ]
  },
  {
   "cell_type": "code",
   "execution_count": 15,
   "id": "dd72c06d",
   "metadata": {},
   "outputs": [],
   "source": [
    "#A rolling window model involves calculating a statistic on a fixed contiguous block of prior observations \n",
    "#and using it as a forecast. In this case we take the average of 10 past time sales and that is the single value\n",
    "#at the 10th position."
   ]
  },
  {
   "cell_type": "markdown",
   "id": "c4fc5de0",
   "metadata": {},
   "source": [
    "## You can often break the series down into trend and seasonal effects as well as long term cycles (plus, of course, an irregular and essentially unpredictable component). But the trend and seasonal effects can change over time. A rolling window allows you to avoid taking too much account of historical effect values that might have changed. "
   ]
  },
  {
   "cell_type": "code",
   "execution_count": 16,
   "id": "ffcd8b5d",
   "metadata": {},
   "outputs": [
    {
     "data": {
      "text/plain": [
       "<AxesSubplot:xlabel='Month'>"
      ]
     },
     "execution_count": 16,
     "metadata": {},
     "output_type": "execute_result"
    },
    {
     "data": {
      "image/png": "[encoded data removed]",
      "text/plain": [
       "<Figure size 432x288 with 1 Axes>"
      ]
     },
     "metadata": {
      "needs_background": "light"
     },
     "output_type": "display_data"
    }
   ],
   "source": [
    "ts_ma.plot()\n",
    "\n",
    "#in this case we see that the value starts from 1-11 so the first 10 values are gone.(averaged out)"
   ]
  },
  {
   "cell_type": "code",
   "execution_count": 56,
   "id": "21d91057",
   "metadata": {},
   "outputs": [],
   "source": [
    "#We use the MA method majorly in stock market analysis,to detect any particular trend,\n",
    "##if identification of a trend is not possible."
   ]
  },
  {
   "cell_type": "markdown",
   "id": "4b449a4a",
   "metadata": {},
   "source": [
    "## we create the base model now. the base model is the starting model,or the first model,which requires no assumptions and the simplest model which follows the assumption that the second period forecast depends on the forecast of the 1st period. So sales of 145.9 can be predicted taken only the sales of the first period into account,i.e 266.0 implies the previous period values are dependent on the current values,so what we observe yesterday,will be reflected today too,only with a slight variation."
   ]
  },
  {
   "cell_type": "code",
   "execution_count": 17,
   "id": "23519b2d",
   "metadata": {},
   "outputs": [
    {
     "data": {
      "text/plain": [
       "Month\n",
       "01-Jan    266.0\n",
       "01-Feb    145.9\n",
       "01-Mar    183.1\n",
       "01-Apr    119.3\n",
       "01-May    180.3\n",
       "01-Jun    168.5\n",
       "01-Jul    231.8\n",
       "01-Aug    224.5\n",
       "01-Sep    192.8\n",
       "01-Oct    122.9\n",
       "01-Nov    336.5\n",
       "01-Dec    185.9\n",
       "02-Jan    194.3\n",
       "02-Feb    149.5\n",
       "02-Mar    210.1\n",
       "02-Apr    273.3\n",
       "02-May    191.4\n",
       "02-Jun    287.0\n",
       "02-Jul    226.0\n",
       "02-Aug    303.6\n",
       "02-Sep    289.9\n",
       "02-Oct    421.6\n",
       "02-Nov    264.5\n",
       "02-Dec    342.3\n",
       "03-Jan    339.7\n",
       "03-Feb    440.4\n",
       "03-Mar    315.9\n",
       "03-Apr    439.3\n",
       "03-May    401.3\n",
       "03-Jun    437.4\n",
       "03-Jul    575.5\n",
       "03-Aug    407.6\n",
       "03-Sep    682.0\n",
       "03-Oct    475.3\n",
       "03-Nov    581.3\n",
       "03-Dec    646.9\n",
       "Name: Sales, dtype: float64"
      ]
     },
     "execution_count": 17,
     "metadata": {},
     "output_type": "execute_result"
    }
   ],
   "source": [
    "ts"
   ]
  },
  {
   "cell_type": "markdown",
   "id": "209606a5",
   "metadata": {},
   "source": [
    "## To create the baseline model,we use the shift method,that is just shifting each datapoint 1 step down. When we use the shift function and print the series,we see that the sales of the current period will depend on excatly the last period sales. so for 2nd period,the sales 3.180 depends on the last period 3.526 sales"
   ]
  },
  {
   "cell_type": "code",
   "execution_count": 20,
   "id": "631f6b05",
   "metadata": {},
   "outputs": [],
   "source": [
    "ts_base = pd.concat([ts,ts.shift(1)],axis=1)"
   ]
  },
  {
   "cell_type": "code",
   "execution_count": 21,
   "id": "0dfbebff",
   "metadata": {},
   "outputs": [
    {
     "data": {
      "text/html": [
       "<div>\n",
       "<style scoped>\n",
       "    .dataframe tbody tr th:only-of-type {\n",
       "        vertical-align: middle;\n",
       "    }\n",
       "\n",
       "    .dataframe tbody tr th {\n",
       "        vertical-align: top;\n",
       "    }\n",
       "\n",
       "    .dataframe thead th {\n",
       "        text-align: right;\n",
       "    }\n",
       "</style>\n",
       "<table border=\"1\" class=\"dataframe\">\n",
       "  <thead>\n",
       "    <tr style=\"text-align: right;\">\n",
       "      <th></th>\n",
       "      <th>Sales</th>\n",
       "      <th>Sales</th>\n",
       "    </tr>\n",
       "    <tr>\n",
       "      <th>Month</th>\n",
       "      <th></th>\n",
       "      <th></th>\n",
       "    </tr>\n",
       "  </thead>\n",
       "  <tbody>\n",
       "    <tr>\n",
       "      <th>01-Jan</th>\n",
       "      <td>266.0</td>\n",
       "      <td>NaN</td>\n",
       "    </tr>\n",
       "    <tr>\n",
       "      <th>01-Feb</th>\n",
       "      <td>145.9</td>\n",
       "      <td>266.0</td>\n",
       "    </tr>\n",
       "    <tr>\n",
       "      <th>01-Mar</th>\n",
       "      <td>183.1</td>\n",
       "      <td>145.9</td>\n",
       "    </tr>\n",
       "    <tr>\n",
       "      <th>01-Apr</th>\n",
       "      <td>119.3</td>\n",
       "      <td>183.1</td>\n",
       "    </tr>\n",
       "    <tr>\n",
       "      <th>01-May</th>\n",
       "      <td>180.3</td>\n",
       "      <td>119.3</td>\n",
       "    </tr>\n",
       "    <tr>\n",
       "      <th>01-Jun</th>\n",
       "      <td>168.5</td>\n",
       "      <td>180.3</td>\n",
       "    </tr>\n",
       "    <tr>\n",
       "      <th>01-Jul</th>\n",
       "      <td>231.8</td>\n",
       "      <td>168.5</td>\n",
       "    </tr>\n",
       "    <tr>\n",
       "      <th>01-Aug</th>\n",
       "      <td>224.5</td>\n",
       "      <td>231.8</td>\n",
       "    </tr>\n",
       "    <tr>\n",
       "      <th>01-Sep</th>\n",
       "      <td>192.8</td>\n",
       "      <td>224.5</td>\n",
       "    </tr>\n",
       "    <tr>\n",
       "      <th>01-Oct</th>\n",
       "      <td>122.9</td>\n",
       "      <td>192.8</td>\n",
       "    </tr>\n",
       "    <tr>\n",
       "      <th>01-Nov</th>\n",
       "      <td>336.5</td>\n",
       "      <td>122.9</td>\n",
       "    </tr>\n",
       "    <tr>\n",
       "      <th>01-Dec</th>\n",
       "      <td>185.9</td>\n",
       "      <td>336.5</td>\n",
       "    </tr>\n",
       "    <tr>\n",
       "      <th>02-Jan</th>\n",
       "      <td>194.3</td>\n",
       "      <td>185.9</td>\n",
       "    </tr>\n",
       "    <tr>\n",
       "      <th>02-Feb</th>\n",
       "      <td>149.5</td>\n",
       "      <td>194.3</td>\n",
       "    </tr>\n",
       "    <tr>\n",
       "      <th>02-Mar</th>\n",
       "      <td>210.1</td>\n",
       "      <td>149.5</td>\n",
       "    </tr>\n",
       "    <tr>\n",
       "      <th>02-Apr</th>\n",
       "      <td>273.3</td>\n",
       "      <td>210.1</td>\n",
       "    </tr>\n",
       "    <tr>\n",
       "      <th>02-May</th>\n",
       "      <td>191.4</td>\n",
       "      <td>273.3</td>\n",
       "    </tr>\n",
       "    <tr>\n",
       "      <th>02-Jun</th>\n",
       "      <td>287.0</td>\n",
       "      <td>191.4</td>\n",
       "    </tr>\n",
       "    <tr>\n",
       "      <th>02-Jul</th>\n",
       "      <td>226.0</td>\n",
       "      <td>287.0</td>\n",
       "    </tr>\n",
       "    <tr>\n",
       "      <th>02-Aug</th>\n",
       "      <td>303.6</td>\n",
       "      <td>226.0</td>\n",
       "    </tr>\n",
       "    <tr>\n",
       "      <th>02-Sep</th>\n",
       "      <td>289.9</td>\n",
       "      <td>303.6</td>\n",
       "    </tr>\n",
       "    <tr>\n",
       "      <th>02-Oct</th>\n",
       "      <td>421.6</td>\n",
       "      <td>289.9</td>\n",
       "    </tr>\n",
       "    <tr>\n",
       "      <th>02-Nov</th>\n",
       "      <td>264.5</td>\n",
       "      <td>421.6</td>\n",
       "    </tr>\n",
       "    <tr>\n",
       "      <th>02-Dec</th>\n",
       "      <td>342.3</td>\n",
       "      <td>264.5</td>\n",
       "    </tr>\n",
       "    <tr>\n",
       "      <th>03-Jan</th>\n",
       "      <td>339.7</td>\n",
       "      <td>342.3</td>\n",
       "    </tr>\n",
       "    <tr>\n",
       "      <th>03-Feb</th>\n",
       "      <td>440.4</td>\n",
       "      <td>339.7</td>\n",
       "    </tr>\n",
       "    <tr>\n",
       "      <th>03-Mar</th>\n",
       "      <td>315.9</td>\n",
       "      <td>440.4</td>\n",
       "    </tr>\n",
       "    <tr>\n",
       "      <th>03-Apr</th>\n",
       "      <td>439.3</td>\n",
       "      <td>315.9</td>\n",
       "    </tr>\n",
       "    <tr>\n",
       "      <th>03-May</th>\n",
       "      <td>401.3</td>\n",
       "      <td>439.3</td>\n",
       "    </tr>\n",
       "    <tr>\n",
       "      <th>03-Jun</th>\n",
       "      <td>437.4</td>\n",
       "      <td>401.3</td>\n",
       "    </tr>\n",
       "    <tr>\n",
       "      <th>03-Jul</th>\n",
       "      <td>575.5</td>\n",
       "      <td>437.4</td>\n",
       "    </tr>\n",
       "    <tr>\n",
       "      <th>03-Aug</th>\n",
       "      <td>407.6</td>\n",
       "      <td>575.5</td>\n",
       "    </tr>\n",
       "    <tr>\n",
       "      <th>03-Sep</th>\n",
       "      <td>682.0</td>\n",
       "      <td>407.6</td>\n",
       "    </tr>\n",
       "    <tr>\n",
       "      <th>03-Oct</th>\n",
       "      <td>475.3</td>\n",
       "      <td>682.0</td>\n",
       "    </tr>\n",
       "    <tr>\n",
       "      <th>03-Nov</th>\n",
       "      <td>581.3</td>\n",
       "      <td>475.3</td>\n",
       "    </tr>\n",
       "    <tr>\n",
       "      <th>03-Dec</th>\n",
       "      <td>646.9</td>\n",
       "      <td>581.3</td>\n",
       "    </tr>\n",
       "  </tbody>\n",
       "</table>\n",
       "</div>"
      ],
      "text/plain": [
       "        Sales  Sales\n",
       "Month               \n",
       "01-Jan  266.0    NaN\n",
       "01-Feb  145.9  266.0\n",
       "01-Mar  183.1  145.9\n",
       "01-Apr  119.3  183.1\n",
       "01-May  180.3  119.3\n",
       "01-Jun  168.5  180.3\n",
       "01-Jul  231.8  168.5\n",
       "01-Aug  224.5  231.8\n",
       "01-Sep  192.8  224.5\n",
       "01-Oct  122.9  192.8\n",
       "01-Nov  336.5  122.9\n",
       "01-Dec  185.9  336.5\n",
       "02-Jan  194.3  185.9\n",
       "02-Feb  149.5  194.3\n",
       "02-Mar  210.1  149.5\n",
       "02-Apr  273.3  210.1\n",
       "02-May  191.4  273.3\n",
       "02-Jun  287.0  191.4\n",
       "02-Jul  226.0  287.0\n",
       "02-Aug  303.6  226.0\n",
       "02-Sep  289.9  303.6\n",
       "02-Oct  421.6  289.9\n",
       "02-Nov  264.5  421.6\n",
       "02-Dec  342.3  264.5\n",
       "03-Jan  339.7  342.3\n",
       "03-Feb  440.4  339.7\n",
       "03-Mar  315.9  440.4\n",
       "03-Apr  439.3  315.9\n",
       "03-May  401.3  439.3\n",
       "03-Jun  437.4  401.3\n",
       "03-Jul  575.5  437.4\n",
       "03-Aug  407.6  575.5\n",
       "03-Sep  682.0  407.6\n",
       "03-Oct  475.3  682.0\n",
       "03-Nov  581.3  475.3\n",
       "03-Dec  646.9  581.3"
      ]
     },
     "execution_count": 21,
     "metadata": {},
     "output_type": "execute_result"
    }
   ],
   "source": [
    "ts_base"
   ]
  },
  {
   "cell_type": "code",
   "execution_count": 22,
   "id": "b546879f",
   "metadata": {},
   "outputs": [],
   "source": [
    "ts_base.columns = [\"Actual_sales\",\"Previous_sales\"] #modyfying the column names for better understanding"
   ]
  },
  {
   "cell_type": "code",
   "execution_count": 24,
   "id": "c4d72afd",
   "metadata": {},
   "outputs": [
    {
     "data": {
      "text/html": [
       "<div>\n",
       "<style scoped>\n",
       "    .dataframe tbody tr th:only-of-type {\n",
       "        vertical-align: middle;\n",
       "    }\n",
       "\n",
       "    .dataframe tbody tr th {\n",
       "        vertical-align: top;\n",
       "    }\n",
       "\n",
       "    .dataframe thead th {\n",
       "        text-align: right;\n",
       "    }\n",
       "</style>\n",
       "<table border=\"1\" class=\"dataframe\">\n",
       "  <thead>\n",
       "    <tr style=\"text-align: right;\">\n",
       "      <th></th>\n",
       "      <th>Actual_sales</th>\n",
       "      <th>Previous_sales</th>\n",
       "    </tr>\n",
       "    <tr>\n",
       "      <th>Month</th>\n",
       "      <th></th>\n",
       "      <th></th>\n",
       "    </tr>\n",
       "  </thead>\n",
       "  <tbody>\n",
       "    <tr>\n",
       "      <th>01-Jan</th>\n",
       "      <td>266.0</td>\n",
       "      <td>NaN</td>\n",
       "    </tr>\n",
       "    <tr>\n",
       "      <th>01-Feb</th>\n",
       "      <td>145.9</td>\n",
       "      <td>266.0</td>\n",
       "    </tr>\n",
       "    <tr>\n",
       "      <th>01-Mar</th>\n",
       "      <td>183.1</td>\n",
       "      <td>145.9</td>\n",
       "    </tr>\n",
       "    <tr>\n",
       "      <th>01-Apr</th>\n",
       "      <td>119.3</td>\n",
       "      <td>183.1</td>\n",
       "    </tr>\n",
       "    <tr>\n",
       "      <th>01-May</th>\n",
       "      <td>180.3</td>\n",
       "      <td>119.3</td>\n",
       "    </tr>\n",
       "  </tbody>\n",
       "</table>\n",
       "</div>"
      ],
      "text/plain": [
       "        Actual_sales  Previous_sales\n",
       "Month                               \n",
       "01-Jan         266.0             NaN\n",
       "01-Feb         145.9           266.0\n",
       "01-Mar         183.1           145.9\n",
       "01-Apr         119.3           183.1\n",
       "01-May         180.3           119.3"
      ]
     },
     "execution_count": 24,
     "metadata": {},
     "output_type": "execute_result"
    }
   ],
   "source": [
    "ts_base.head()"
   ]
  },
  {
   "cell_type": "code",
   "execution_count": 25,
   "id": "a98c9f2d",
   "metadata": {},
   "outputs": [],
   "source": [
    "ts_base.dropna(inplace=True) #create changes within the same dataframe,without creating a copy.\n",
    "                             #And the changes are parmanent."
   ]
  },
  {
   "cell_type": "code",
   "execution_count": 26,
   "id": "c34afddd",
   "metadata": {},
   "outputs": [
    {
     "data": {
      "text/html": [
       "<div>\n",
       "<style scoped>\n",
       "    .dataframe tbody tr th:only-of-type {\n",
       "        vertical-align: middle;\n",
       "    }\n",
       "\n",
       "    .dataframe tbody tr th {\n",
       "        vertical-align: top;\n",
       "    }\n",
       "\n",
       "    .dataframe thead th {\n",
       "        text-align: right;\n",
       "    }\n",
       "</style>\n",
       "<table border=\"1\" class=\"dataframe\">\n",
       "  <thead>\n",
       "    <tr style=\"text-align: right;\">\n",
       "      <th></th>\n",
       "      <th>Actual_sales</th>\n",
       "      <th>Previous_sales</th>\n",
       "    </tr>\n",
       "    <tr>\n",
       "      <th>Month</th>\n",
       "      <th></th>\n",
       "      <th></th>\n",
       "    </tr>\n",
       "  </thead>\n",
       "  <tbody>\n",
       "    <tr>\n",
       "      <th>01-Feb</th>\n",
       "      <td>145.9</td>\n",
       "      <td>266.0</td>\n",
       "    </tr>\n",
       "    <tr>\n",
       "      <th>01-Mar</th>\n",
       "      <td>183.1</td>\n",
       "      <td>145.9</td>\n",
       "    </tr>\n",
       "    <tr>\n",
       "      <th>01-Apr</th>\n",
       "      <td>119.3</td>\n",
       "      <td>183.1</td>\n",
       "    </tr>\n",
       "    <tr>\n",
       "      <th>01-May</th>\n",
       "      <td>180.3</td>\n",
       "      <td>119.3</td>\n",
       "    </tr>\n",
       "    <tr>\n",
       "      <th>01-Jun</th>\n",
       "      <td>168.5</td>\n",
       "      <td>180.3</td>\n",
       "    </tr>\n",
       "    <tr>\n",
       "      <th>01-Jul</th>\n",
       "      <td>231.8</td>\n",
       "      <td>168.5</td>\n",
       "    </tr>\n",
       "    <tr>\n",
       "      <th>01-Aug</th>\n",
       "      <td>224.5</td>\n",
       "      <td>231.8</td>\n",
       "    </tr>\n",
       "    <tr>\n",
       "      <th>01-Sep</th>\n",
       "      <td>192.8</td>\n",
       "      <td>224.5</td>\n",
       "    </tr>\n",
       "    <tr>\n",
       "      <th>01-Oct</th>\n",
       "      <td>122.9</td>\n",
       "      <td>192.8</td>\n",
       "    </tr>\n",
       "    <tr>\n",
       "      <th>01-Nov</th>\n",
       "      <td>336.5</td>\n",
       "      <td>122.9</td>\n",
       "    </tr>\n",
       "    <tr>\n",
       "      <th>01-Dec</th>\n",
       "      <td>185.9</td>\n",
       "      <td>336.5</td>\n",
       "    </tr>\n",
       "    <tr>\n",
       "      <th>02-Jan</th>\n",
       "      <td>194.3</td>\n",
       "      <td>185.9</td>\n",
       "    </tr>\n",
       "    <tr>\n",
       "      <th>02-Feb</th>\n",
       "      <td>149.5</td>\n",
       "      <td>194.3</td>\n",
       "    </tr>\n",
       "    <tr>\n",
       "      <th>02-Mar</th>\n",
       "      <td>210.1</td>\n",
       "      <td>149.5</td>\n",
       "    </tr>\n",
       "    <tr>\n",
       "      <th>02-Apr</th>\n",
       "      <td>273.3</td>\n",
       "      <td>210.1</td>\n",
       "    </tr>\n",
       "    <tr>\n",
       "      <th>02-May</th>\n",
       "      <td>191.4</td>\n",
       "      <td>273.3</td>\n",
       "    </tr>\n",
       "    <tr>\n",
       "      <th>02-Jun</th>\n",
       "      <td>287.0</td>\n",
       "      <td>191.4</td>\n",
       "    </tr>\n",
       "    <tr>\n",
       "      <th>02-Jul</th>\n",
       "      <td>226.0</td>\n",
       "      <td>287.0</td>\n",
       "    </tr>\n",
       "    <tr>\n",
       "      <th>02-Aug</th>\n",
       "      <td>303.6</td>\n",
       "      <td>226.0</td>\n",
       "    </tr>\n",
       "    <tr>\n",
       "      <th>02-Sep</th>\n",
       "      <td>289.9</td>\n",
       "      <td>303.6</td>\n",
       "    </tr>\n",
       "    <tr>\n",
       "      <th>02-Oct</th>\n",
       "      <td>421.6</td>\n",
       "      <td>289.9</td>\n",
       "    </tr>\n",
       "    <tr>\n",
       "      <th>02-Nov</th>\n",
       "      <td>264.5</td>\n",
       "      <td>421.6</td>\n",
       "    </tr>\n",
       "    <tr>\n",
       "      <th>02-Dec</th>\n",
       "      <td>342.3</td>\n",
       "      <td>264.5</td>\n",
       "    </tr>\n",
       "    <tr>\n",
       "      <th>03-Jan</th>\n",
       "      <td>339.7</td>\n",
       "      <td>342.3</td>\n",
       "    </tr>\n",
       "    <tr>\n",
       "      <th>03-Feb</th>\n",
       "      <td>440.4</td>\n",
       "      <td>339.7</td>\n",
       "    </tr>\n",
       "    <tr>\n",
       "      <th>03-Mar</th>\n",
       "      <td>315.9</td>\n",
       "      <td>440.4</td>\n",
       "    </tr>\n",
       "    <tr>\n",
       "      <th>03-Apr</th>\n",
       "      <td>439.3</td>\n",
       "      <td>315.9</td>\n",
       "    </tr>\n",
       "    <tr>\n",
       "      <th>03-May</th>\n",
       "      <td>401.3</td>\n",
       "      <td>439.3</td>\n",
       "    </tr>\n",
       "    <tr>\n",
       "      <th>03-Jun</th>\n",
       "      <td>437.4</td>\n",
       "      <td>401.3</td>\n",
       "    </tr>\n",
       "    <tr>\n",
       "      <th>03-Jul</th>\n",
       "      <td>575.5</td>\n",
       "      <td>437.4</td>\n",
       "    </tr>\n",
       "    <tr>\n",
       "      <th>03-Aug</th>\n",
       "      <td>407.6</td>\n",
       "      <td>575.5</td>\n",
       "    </tr>\n",
       "    <tr>\n",
       "      <th>03-Sep</th>\n",
       "      <td>682.0</td>\n",
       "      <td>407.6</td>\n",
       "    </tr>\n",
       "    <tr>\n",
       "      <th>03-Oct</th>\n",
       "      <td>475.3</td>\n",
       "      <td>682.0</td>\n",
       "    </tr>\n",
       "    <tr>\n",
       "      <th>03-Nov</th>\n",
       "      <td>581.3</td>\n",
       "      <td>475.3</td>\n",
       "    </tr>\n",
       "    <tr>\n",
       "      <th>03-Dec</th>\n",
       "      <td>646.9</td>\n",
       "      <td>581.3</td>\n",
       "    </tr>\n",
       "  </tbody>\n",
       "</table>\n",
       "</div>"
      ],
      "text/plain": [
       "        Actual_sales  Previous_sales\n",
       "Month                               \n",
       "01-Feb         145.9           266.0\n",
       "01-Mar         183.1           145.9\n",
       "01-Apr         119.3           183.1\n",
       "01-May         180.3           119.3\n",
       "01-Jun         168.5           180.3\n",
       "01-Jul         231.8           168.5\n",
       "01-Aug         224.5           231.8\n",
       "01-Sep         192.8           224.5\n",
       "01-Oct         122.9           192.8\n",
       "01-Nov         336.5           122.9\n",
       "01-Dec         185.9           336.5\n",
       "02-Jan         194.3           185.9\n",
       "02-Feb         149.5           194.3\n",
       "02-Mar         210.1           149.5\n",
       "02-Apr         273.3           210.1\n",
       "02-May         191.4           273.3\n",
       "02-Jun         287.0           191.4\n",
       "02-Jul         226.0           287.0\n",
       "02-Aug         303.6           226.0\n",
       "02-Sep         289.9           303.6\n",
       "02-Oct         421.6           289.9\n",
       "02-Nov         264.5           421.6\n",
       "02-Dec         342.3           264.5\n",
       "03-Jan         339.7           342.3\n",
       "03-Feb         440.4           339.7\n",
       "03-Mar         315.9           440.4\n",
       "03-Apr         439.3           315.9\n",
       "03-May         401.3           439.3\n",
       "03-Jun         437.4           401.3\n",
       "03-Jul         575.5           437.4\n",
       "03-Aug         407.6           575.5\n",
       "03-Sep         682.0           407.6\n",
       "03-Oct         475.3           682.0\n",
       "03-Nov         581.3           475.3\n",
       "03-Dec         646.9           581.3"
      ]
     },
     "execution_count": 26,
     "metadata": {},
     "output_type": "execute_result"
    }
   ],
   "source": [
    "ts_base"
   ]
  },
  {
   "cell_type": "code",
   "execution_count": 34,
   "id": "39ab6b98",
   "metadata": {},
   "outputs": [],
   "source": [
    "from sklearn.metrics import mean_squared_error\n",
    "import numpy as np"
   ]
  },
  {
   "cell_type": "code",
   "execution_count": 35,
   "id": "85e57937",
   "metadata": {},
   "outputs": [],
   "source": [
    "ts_error = mean_squared_error(ts_base.Actual_sales,ts_base.Previous_sales)"
   ]
  },
  {
   "cell_type": "code",
   "execution_count": 36,
   "id": "f77f5179",
   "metadata": {},
   "outputs": [
    {
     "data": {
      "text/plain": [
       "11715.388285714285"
      ]
     },
     "execution_count": 36,
     "metadata": {},
     "output_type": "execute_result"
    }
   ],
   "source": [
    "ts_error"
   ]
  },
  {
   "cell_type": "code",
   "execution_count": 37,
   "id": "da6dae9f",
   "metadata": {},
   "outputs": [
    {
     "data": {
      "text/plain": [
       "108.23764726616282"
      ]
     },
     "execution_count": 37,
     "metadata": {},
     "output_type": "execute_result"
    }
   ],
   "source": [
    "np.sqrt(ts_error) #we do not work with the squared error"
   ]
  },
  {
   "cell_type": "code",
   "execution_count": 38,
   "id": "bb9c0ae6",
   "metadata": {},
   "outputs": [],
   "source": [
    "#PACF gives the AR component and ACF gives the MA component"
   ]
  },
  {
   "cell_type": "code",
   "execution_count": 39,
   "id": "6f921fda",
   "metadata": {},
   "outputs": [],
   "source": [
    "from statsmodels.graphics.tsaplots import plot_acf,plot_pacf"
   ]
  },
  {
   "cell_type": "code",
   "execution_count": 40,
   "id": "3d98123a",
   "metadata": {},
   "outputs": [
    {
     "data": {
      "image/png": "[encoded data removed]",
      "text/plain": [
       "<Figure size 432x288 with 1 Axes>"
      ]
     },
     "execution_count": 40,
     "metadata": {},
     "output_type": "execute_result"
    },
    {
     "data": {
      "image/png": "[encoded data removed]",
      "text/plain": [
       "<Figure size 432x288 with 1 Axes>"
      ]
     },
     "metadata": {
      "needs_background": "light"
     },
     "output_type": "display_data"
    }
   ],
   "source": [
    "plot_acf(ts)"
   ]
  },
  {
   "cell_type": "markdown",
   "id": "898c47f5",
   "metadata": {},
   "source": [
    "## This acf plot shows the correlation of the 1st value with the first value(266 with 266),the second term shows the correlation of the second term with the first value,third line shows the correlation of the 3rd point with the 2nd point and so on. In this plot we see the autocorrelation drops post the 4th point(3rd term),and enters the critical zone. so q=3"
   ]
  },
  {
   "cell_type": "code",
   "execution_count": 41,
   "id": "bb03b0fd",
   "metadata": {},
   "outputs": [
    {
     "data": {
      "image/png": "[encoded data removed]",
      "text/plain": [
       "<Figure size 432x288 with 1 Axes>"
      ]
     },
     "execution_count": 41,
     "metadata": {},
     "output_type": "execute_result"
    },
    {
     "data": {
      "image/png": "[encoded data removed]",
      "text/plain": [
       "<Figure size 432x288 with 1 Axes>"
      ]
     },
     "metadata": {
      "needs_background": "light"
     },
     "output_type": "display_data"
    }
   ],
   "source": [
    "# q=3\n",
    "plot_pacf(ts)"
   ]
  },
  {
   "cell_type": "code",
   "execution_count": 42,
   "id": "49d8f64a",
   "metadata": {},
   "outputs": [],
   "source": [
    "#P=2\n",
    "#from the above plot it is evident that post the 3rd line(2nd index)the correlation drops to the critical zone. so P=2\n",
    "#Now the term 'd' (differencing for stationarity,which removes the trend and seasonal factors\n",
    "#from the time series and helps us to make better predictions) varies between 0 to 2. \n",
    "#so we will explore with all possible combinations here"
   ]
  },
  {
   "cell_type": "code",
   "execution_count": 44,
   "id": "c0905026",
   "metadata": {},
   "outputs": [],
   "source": [
    "from statsmodels.tsa.arima_model import ARIMA"
   ]
  },
  {
   "cell_type": "code",
   "execution_count": 45,
   "id": "28f42e55",
   "metadata": {},
   "outputs": [],
   "source": [
    "ts_train = ts[0:24]\n",
    "ts_test = ts[24:36]    #p=2,#q=3,#d=0,1,2   --> Try for (2,0,3),(2,1,3),(2,2,3) and so on... for (p,d,q)AR=P,I=d,MA=q"
   ]
  },
  {
   "cell_type": "code",
   "execution_count": 56,
   "id": "37dc297e",
   "metadata": {},
   "outputs": [
    {
     "name": "stderr",
     "output_type": "stream",
     "text": [
      "C:\\Users\\RIYANRIYA\\anaconda3\\lib\\site-packages\\statsmodels\\tsa\\base\\tsa_model.py:578: ValueWarning: An unsupported index was provided and will be ignored when e.g. forecasting.\n",
      "  warnings.warn('An unsupported index was provided and will be'\n"
     ]
    }
   ],
   "source": [
    "ts_model = ARIMA(ts_train,order=(2,0,3)) #we try for ,(2,1,3),then (3,1,3) and finally (2,0,3), (3,1,2) which is error free"
   ]
  },
  {
   "cell_type": "code",
   "execution_count": 57,
   "id": "6bb3dd42",
   "metadata": {},
   "outputs": [
    {
     "name": "stderr",
     "output_type": "stream",
     "text": [
      "C:\\Users\\RIYANRIYA\\anaconda3\\lib\\site-packages\\statsmodels\\base\\model.py:547: HessianInversionWarning: Inverting hessian failed, no bse or cov_params available\n",
      "  warnings.warn('Inverting hessian failed, no bse or cov_params '\n",
      "C:\\Users\\RIYANRIYA\\anaconda3\\lib\\site-packages\\statsmodels\\base\\model.py:566: ConvergenceWarning: Maximum Likelihood optimization failed to converge. Check mle_retvals\n",
      "  warnings.warn(\"Maximum Likelihood optimization failed to \"\n"
     ]
    }
   ],
   "source": [
    "ts_model_fit=ts_model.fit() #we get error for (2,1,3) then we try for "
   ]
  },
  {
   "cell_type": "code",
   "execution_count": 58,
   "id": "62c0885b",
   "metadata": {},
   "outputs": [],
   "source": [
    "#we generate the  12 months forecast for the test data\n",
    "ts_forecast= ts_model_fit.forecast(steps=12)[0]  #so the first series [0] will contain the actaul forecast values"
   ]
  },
  {
   "cell_type": "code",
   "execution_count": 59,
   "id": "9a4fa8a6",
   "metadata": {},
   "outputs": [
    {
     "data": {
      "text/plain": [
       "73.73254544367683"
      ]
     },
     "execution_count": 59,
     "metadata": {},
     "output_type": "execute_result"
    }
   ],
   "source": [
    "np.sqrt(mean_squared_error(ts_test,ts_forecast))"
   ]
  },
  {
   "cell_type": "markdown",
   "id": "fe961402",
   "metadata": {},
   "source": [
    "## Comparing the MSE of the baseline model with the MSE here(128) we find the new model with p,d,q(2,0,3) having a lower error(73.73),and hence is a better model than the base model we built. But we will still  fine tune the model"
   ]
  },
  {
   "cell_type": "code",
   "execution_count": 60,
   "id": "84de1a28",
   "metadata": {},
   "outputs": [],
   "source": [
    "p_values = range(0,5)  #p had a value 2 from PACF plot\n",
    "d_values = range (0,3)   #d always ranges from 0 to 2\n",
    "q_values = range(0,5)    #q has a value 3 from ACF plot"
   ]
  },
  {
   "cell_type": "code",
   "execution_count": 61,
   "id": "930c69bb",
   "metadata": {},
   "outputs": [],
   "source": [
    "import warnings\n",
    "warnings.filterwarnings(\"ignore\")"
   ]
  },
  {
   "cell_type": "code",
   "execution_count": 62,
   "id": "00f9d503",
   "metadata": {},
   "outputs": [
    {
     "name": "stdout",
     "output_type": "stream",
     "text": [
      "ARIMA(0, 0, 0): MSE = 74557.50\n",
      "ARIMA(0, 0, 1): MSE = 67354.73\n",
      "ARIMA(0, 0, 2): MSE = 71031.23\n",
      "ARIMA(0, 0, 3): MSE = 71717.64\n",
      "ARIMA(0, 0, 4): MSE = 59947.07\n",
      "ARIMA(0, 1, 0): MSE = 30264.93\n",
      "ARIMA(0, 1, 1): MSE = 41108.61\n",
      "ARIMA(0, 1, 2): MSE = 43000.43\n",
      "ARIMA(0, 1, 3): MSE = 42869.40\n",
      "ARIMA(0, 1, 4): MSE = 57649.08\n",
      "ARIMA(0, 2, 0): MSE = 15039.60\n",
      "ARIMA(0, 2, 1): MSE = 25640.29\n",
      "ARIMA(0, 2, 2): MSE = 26563.18\n",
      "ARIMA(0, 2, 3): MSE = 26176.94\n",
      "ARIMA(1, 0, 0): MSE = 60781.38\n",
      "ARIMA(1, 0, 1): MSE = 46973.02\n",
      "ARIMA(1, 0, 2): MSE = 86082.43\n",
      "ARIMA(1, 0, 3): MSE = 84123.24\n",
      "ARIMA(1, 0, 4): MSE = 64895.42\n",
      "ARIMA(1, 1, 0): MSE = 45773.86\n",
      "ARIMA(1, 1, 1): MSE = 43829.49\n",
      "ARIMA(1, 2, 0): MSE = 75793.72\n",
      "ARIMA(1, 2, 1): MSE = 38180.05\n",
      "ARIMA(1, 2, 2): MSE = 25842.84\n",
      "ARIMA(2, 0, 0): MSE = 59250.93\n",
      "ARIMA(2, 0, 3): MSE = 19305.36\n",
      "ARIMA(2, 1, 0): MSE = 38728.14\n",
      "ARIMA(2, 1, 1): MSE = 45895.25\n",
      "ARIMA(2, 1, 2): MSE = 52149.33\n",
      "ARIMA(2, 2, 0): MSE = 58378.09\n",
      "ARIMA(2, 2, 1): MSE = 31275.71\n",
      "ARIMA(3, 0, 0): MSE = 62408.16\n",
      "ARIMA(3, 0, 4): MSE = 38522.32\n",
      "ARIMA(3, 1, 0): MSE = 39188.21\n",
      "ARIMA(3, 1, 1): MSE = 43397.88\n",
      "ARIMA(3, 1, 2): MSE = 33903.28\n",
      "ARIMA(3, 2, 0): MSE = 41940.24\n",
      "ARIMA(3, 2, 1): MSE = 28516.67\n",
      "ARIMA(3, 2, 2): MSE = 30758.69\n",
      "ARIMA(3, 2, 3): MSE = 28208.89\n",
      "ARIMA(4, 0, 0): MSE = 56902.14\n",
      "ARIMA(4, 0, 1): MSE = 56946.19\n",
      "ARIMA(4, 0, 4): MSE = 48780.19\n",
      "ARIMA(4, 1, 0): MSE = 41141.09\n",
      "ARIMA(4, 1, 1): MSE = 42294.01\n",
      "ARIMA(4, 1, 2): MSE = 33844.46\n",
      "ARIMA(4, 2, 0): MSE = 33024.52\n",
      "ARIMA(4, 2, 1): MSE = 28032.74\n",
      "ARIMA(4, 2, 2): MSE = 27735.71\n"
     ]
    }
   ],
   "source": [
    "for p in p_values:\n",
    "    for d in d_values:\n",
    "        for q in q_values:\n",
    "            order = (p,d,q)  #for ARIMA model\n",
    "            train,test=ts[0:24],ts[24:36]\n",
    "            predictions= list()\n",
    "            for i in range(len(test)):\n",
    "                try:\n",
    "                    model = ARIMA(train,order)\n",
    "                    model_fit = model.fit(disp=0)  #give an output in display\n",
    "                    pred_y=model_fit.forecast()[0]  #prediction value to be stored in the first array\n",
    "                    predictions.append(pred_y)\n",
    "                    error = mean_squared_error(test,predictions)\n",
    "                    print('ARIMA%s: MSE = %.2f'%(order,error))\n",
    "                except:\n",
    "                    continue"
   ]
  },
  {
   "cell_type": "code",
   "execution_count": 95,
   "id": "a4c1ee02",
   "metadata": {},
   "outputs": [
    {
     "data": {
      "text/plain": [
       "122.63604690302114"
      ]
     },
     "execution_count": 95,
     "metadata": {},
     "output_type": "execute_result"
    }
   ],
   "source": [
    "np.sqrt(15039.60)"
   ]
  },
  {
   "cell_type": "markdown",
   "id": "fb0b53a8",
   "metadata": {},
   "source": [
    "## ARIMA(0, 2, 0): MSE = 15039.60 gives a higher MSE than the previous model with (p,d,q)=(2,0,3) with MSE=11715 which in turn is the best model as its even lower  than the MSE of the base model.\n",
    "## So,more transformations are needed. You will need to transform your series by differencing/log transformations only if your base models MSE is lowest than your ARIMA models."
   ]
  },
  {
   "cell_type": "code",
   "execution_count": null,
   "id": "6344f62c",
   "metadata": {},
   "outputs": [],
   "source": []
  }
 ],
 "metadata": {
  "kernelspec": {
   "display_name": "Python 3",
   "language": "python",
   "name": "python3"
  },
  "language_info": {
   "codemirror_mode": {
    "name": "ipython",
    "version": 3
   },
   "file_extension": ".py",
   "mimetype": "text/x-python",
   "name": "python",
   "nbconvert_exporter": "python",
   "pygments_lexer": "ipython3",
   "version": "3.8.8"
  }
 },
 "nbformat": 4,
 "nbformat_minor": 5
}
